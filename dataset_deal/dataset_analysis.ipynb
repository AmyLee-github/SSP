{
 "cells": [
  {
   "cell_type": "code",
   "execution_count": 28,
   "id": "b7c86d61",
   "metadata": {
    "lines_to_next_cell": 1
   },
   "outputs": [],
   "source": [
    "import os\n",
    "import pandas as pd"
   ]
  },
  {
   "cell_type": "code",
   "execution_count": 29,
   "id": "dbaad9cd",
   "metadata": {
    "lines_to_next_cell": 1
   },
   "outputs": [],
   "source": [
    "def find_deepest_paths(root_dir):\n",
    "    deepest_paths = []\n",
    "    max_depth = 0\n",
    "\n",
    "    for dirpath, _, filenames in os.walk(root_dir):\n",
    "        depth = dirpath.count(os.sep)\n",
    "        if depth > max_depth:\n",
    "            max_depth = depth\n",
    "            deepest_paths = [dirpath]\n",
    "        elif depth == max_depth:\n",
    "            deepest_paths.append(dirpath)\n",
    "\n",
    "    return deepest_paths"
   ]
  },
  {
   "cell_type": "code",
   "execution_count": 30,
   "id": "ea4bbc8d",
   "metadata": {
    "lines_to_next_cell": 1
   },
   "outputs": [],
   "source": [
    "def count_images_in_paths(paths):\n",
    "    image_extensions = {'.jpg', '.jpeg', '.png', '.gif', '.bmp', '.tiff', '.JPG', '.JPEG', '.PNG', '.GIF', '.BMP', '.TIFF'}\n",
    "    counts = []\n",
    "\n",
    "    for path in paths:\n",
    "        count = sum(1 for f in os.listdir(path) if os.path.splitext(f)[1].lower() in image_extensions)\n",
    "        counts.append((path, count))\n",
    "\n",
    "    return counts"
   ]
  },
  {
   "cell_type": "code",
   "execution_count": 31,
   "id": "31e66bf6",
   "metadata": {
    "lines_to_next_cell": 1
   },
   "outputs": [],
   "source": [
    "def main():\n",
    "    root_dir = '/hexp/data/genImage_filtered_squeeze'\n",
    "    deepest_paths = find_deepest_paths(root_dir)\n",
    "    image_counts = count_images_in_paths(deepest_paths)\n",
    "\n",
    "    train_data = [(os.path.relpath(path, root_dir), count) for path, count in image_counts if 'train' in path]\n",
    "    val_data = [(os.path.relpath(path, root_dir), count) for path, count in image_counts if 'val' in path]\n",
    "\n",
    "    df_train = pd.DataFrame(train_data, columns=['Path', 'Image Count'])\n",
    "    df_val = pd.DataFrame(val_data, columns=['Path', 'Image Count'])\n",
    "\n",
    "    pd.options.display.colheader_justify = 'left'  # 左对齐列标题\n",
    "    pd.options.display.float_format = '{:<}'.format  # 左对齐浮点数\n",
    "\n",
    "    print(\"Train Data:\")\n",
    "    print(df_train.to_string(index=False, justify='left'))\n",
    "    print(\"\\nValidation Data:\")\n",
    "    print(df_val.to_string(index=False, justify='left'))"
   ]
  },
  {
   "cell_type": "code",
   "execution_count": 32,
   "id": "adee7710",
   "metadata": {},
   "outputs": [
    {
     "name": "stdout",
     "output_type": "stream",
     "text": [
      "Train Data:\n",
      "Path                                  Image Count\n",
      "imagenet_ai_0419_biggan/train/nature 16200       \n",
      "    imagenet_ai_0419_biggan/train/ai 16199       \n",
      "   imagenet_ai_0508_adm/train/nature 15745       \n",
      "       imagenet_ai_0508_adm/train/ai 16199       \n",
      "    imagenet_midjourney/train/nature 16170       \n",
      "        imagenet_midjourney/train/ai 16199       \n",
      "  imagenet_ai_0419_sdv4/train/nature 16200       \n",
      "      imagenet_ai_0419_sdv4/train/ai   870       \n",
      "  imagenet_ai_0419_vqdm/train/nature  1192       \n",
      "      imagenet_ai_0419_vqdm/train/ai 16200       \n",
      "  imagenet_ai_0424_sdv5/train/nature 15327       \n",
      "      imagenet_ai_0424_sdv5/train/ai 16600       \n",
      "imagenet_ai_0424_wukong/train/nature 16073       \n",
      "    imagenet_ai_0424_wukong/train/ai 16200       \n",
      "         imagenet_glide/train/nature 16200       \n",
      "             imagenet_glide/train/ai 16199       \n",
      "\n",
      "Validation Data:\n",
      "Path                                Image Count\n",
      "imagenet_ai_0419_biggan/val/nature 600         \n",
      "    imagenet_ai_0419_biggan/val/ai 600         \n",
      "   imagenet_ai_0508_adm/val/nature 600         \n",
      "       imagenet_ai_0508_adm/val/ai 600         \n",
      "    imagenet_midjourney/val/nature 600         \n",
      "        imagenet_midjourney/val/ai 600         \n",
      "  imagenet_ai_0419_sdv4/val/nature 600         \n",
      "      imagenet_ai_0419_sdv4/val/ai 600         \n",
      "  imagenet_ai_0419_vqdm/val/nature 600         \n",
      "      imagenet_ai_0419_vqdm/val/ai 600         \n",
      "  imagenet_ai_0424_sdv5/val/nature 800         \n",
      "      imagenet_ai_0424_sdv5/val/ai 800         \n",
      "imagenet_ai_0424_wukong/val/nature 600         \n",
      "    imagenet_ai_0424_wukong/val/ai 600         \n",
      "         imagenet_glide/val/nature 600         \n",
      "             imagenet_glide/val/ai 600         \n"
     ]
    }
   ],
   "source": [
    "if __name__ == \"__main__\":\n",
    "    main()"
   ]
  }
 ],
 "metadata": {
  "jupytext": {
   "cell_metadata_filter": "-all",
   "main_language": "python",
   "notebook_metadata_filter": "-all"
  },
  "kernelspec": {
   "display_name": "base",
   "language": "python",
   "name": "python3"
  },
  "language_info": {
   "codemirror_mode": {
    "name": "ipython",
    "version": 3
   },
   "file_extension": ".py",
   "mimetype": "text/x-python",
   "name": "python",
   "nbconvert_exporter": "python",
   "pygments_lexer": "ipython3",
   "version": "3.9.12"
  }
 },
 "nbformat": 4,
 "nbformat_minor": 5
}
